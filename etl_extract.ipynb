{
 "cells": [
  {
   "cell_type": "code",
   "execution_count": 7,
   "id": "99f13724",
   "metadata": {},
   "outputs": [
    {
     "name": "stdout",
     "output_type": "stream",
     "text": [
      "Extracted 212 rows fully.\n",
      "Columns: ['order_id', 'customer', 'amount', 'date', 'last_updated']\n"
     ]
    },
    {
     "data": {
      "text/html": [
       "<div>\n",
       "<style scoped>\n",
       "    .dataframe tbody tr th:only-of-type {\n",
       "        vertical-align: middle;\n",
       "    }\n",
       "\n",
       "    .dataframe tbody tr th {\n",
       "        vertical-align: top;\n",
       "    }\n",
       "\n",
       "    .dataframe thead th {\n",
       "        text-align: right;\n",
       "    }\n",
       "</style>\n",
       "<table border=\"1\" class=\"dataframe\">\n",
       "  <thead>\n",
       "    <tr style=\"text-align: right;\">\n",
       "      <th></th>\n",
       "      <th>order_id</th>\n",
       "      <th>customer</th>\n",
       "      <th>amount</th>\n",
       "      <th>date</th>\n",
       "      <th>last_updated</th>\n",
       "    </tr>\n",
       "  </thead>\n",
       "  <tbody>\n",
       "    <tr>\n",
       "      <th>0</th>\n",
       "      <td>2018</td>\n",
       "      <td>Costco</td>\n",
       "      <td>938</td>\n",
       "      <td>2025-04-01</td>\n",
       "      <td>2025-04-01 05:00:00</td>\n",
       "    </tr>\n",
       "    <tr>\n",
       "      <th>1</th>\n",
       "      <td>9235</td>\n",
       "      <td>Costco</td>\n",
       "      <td>1436</td>\n",
       "      <td>2025-04-01</td>\n",
       "      <td>2025-04-01 02:26:00</td>\n",
       "    </tr>\n",
       "    <tr>\n",
       "      <th>2</th>\n",
       "      <td>6736</td>\n",
       "      <td>Amazon</td>\n",
       "      <td>956</td>\n",
       "      <td>2025-04-01</td>\n",
       "      <td>2025-04-01 07:22:00</td>\n",
       "    </tr>\n",
       "    <tr>\n",
       "      <th>3</th>\n",
       "      <td>5108</td>\n",
       "      <td>Costco</td>\n",
       "      <td>1243</td>\n",
       "      <td>2025-04-01</td>\n",
       "      <td>2025-04-01 08:45:00</td>\n",
       "    </tr>\n",
       "    <tr>\n",
       "      <th>4</th>\n",
       "      <td>9094</td>\n",
       "      <td>Costco</td>\n",
       "      <td>1114</td>\n",
       "      <td>2025-04-01</td>\n",
       "      <td>2025-04-01 17:46:00</td>\n",
       "    </tr>\n",
       "  </tbody>\n",
       "</table>\n",
       "</div>"
      ],
      "text/plain": [
       "   order_id customer  amount        date        last_updated\n",
       "0      2018   Costco     938  2025-04-01 2025-04-01 05:00:00\n",
       "1      9235   Costco    1436  2025-04-01 2025-04-01 02:26:00\n",
       "2      6736   Amazon     956  2025-04-01 2025-04-01 07:22:00\n",
       "3      5108   Costco    1243  2025-04-01 2025-04-01 08:45:00\n",
       "4      9094   Costco    1114  2025-04-01 2025-04-01 17:46:00"
      ]
     },
     "execution_count": 7,
     "metadata": {},
     "output_type": "execute_result"
    }
   ],
   "source": [
    "# 🔄 Section 1: Full Extraction\n",
    "import pandas as pd\n",
    "\n",
    "df_full = pd.read_csv(\"custom_data.csv\", parse_dates=[\"last_updated\"])\n",
    "print(f\"Extracted {len(df_full)} rows fully.\")\n",
    "print(\"Columns:\", df_full.columns.tolist())\n",
    "df_full.head()\n"
   ]
  },
  {
   "cell_type": "code",
   "execution_count": 6,
   "id": "e9f3df6a",
   "metadata": {},
   "outputs": [
    {
     "data": {
      "text/plain": [
       "'custom_data.csv'"
      ]
     },
     "execution_count": 6,
     "metadata": {},
     "output_type": "execute_result"
    }
   ],
   "source": [
    "import shutil\n",
    "\n",
    "# Use a raw string (r\"\") to prevent backslash issues\n",
    "source_path = r\"C:\\Users\\PC\\OneDrive\\Desktop\\ETL_Extract_Paul Mbuvi_669984\\custom_data.csv\"\n",
    "\n",
    "# This moves the file to the same folder as your notebook\n",
    "shutil.move(source_path, 'custom_data.csv')"
   ]
  },
  {
   "cell_type": "code",
   "execution_count": 9,
   "id": "c884938c",
   "metadata": {},
   "outputs": [
    {
     "name": "stdout",
     "output_type": "stream",
     "text": [
      "Extracted 133 rows incrementally since 2025-04-25 12:00:00.\n"
     ]
    },
    {
     "data": {
      "text/html": [
       "<div>\n",
       "<style scoped>\n",
       "    .dataframe tbody tr th:only-of-type {\n",
       "        vertical-align: middle;\n",
       "    }\n",
       "\n",
       "    .dataframe tbody tr th {\n",
       "        vertical-align: top;\n",
       "    }\n",
       "\n",
       "    .dataframe thead th {\n",
       "        text-align: right;\n",
       "    }\n",
       "</style>\n",
       "<table border=\"1\" class=\"dataframe\">\n",
       "  <thead>\n",
       "    <tr style=\"text-align: right;\">\n",
       "      <th></th>\n",
       "      <th>order_id</th>\n",
       "      <th>customer</th>\n",
       "      <th>amount</th>\n",
       "      <th>date</th>\n",
       "      <th>last_updated</th>\n",
       "    </tr>\n",
       "  </thead>\n",
       "  <tbody>\n",
       "    <tr>\n",
       "      <th>77</th>\n",
       "      <td>6561</td>\n",
       "      <td>Costco</td>\n",
       "      <td>71</td>\n",
       "      <td>2025-04-25</td>\n",
       "      <td>2025-04-25 14:56:00</td>\n",
       "    </tr>\n",
       "    <tr>\n",
       "      <th>80</th>\n",
       "      <td>5874</td>\n",
       "      <td>BestBuy</td>\n",
       "      <td>235</td>\n",
       "      <td>2025-04-26</td>\n",
       "      <td>2025-04-26 10:33:00</td>\n",
       "    </tr>\n",
       "    <tr>\n",
       "      <th>81</th>\n",
       "      <td>4641</td>\n",
       "      <td>Costco</td>\n",
       "      <td>1245</td>\n",
       "      <td>2025-04-26</td>\n",
       "      <td>2025-04-26 10:32:00</td>\n",
       "    </tr>\n",
       "    <tr>\n",
       "      <th>82</th>\n",
       "      <td>2342</td>\n",
       "      <td>Target</td>\n",
       "      <td>424</td>\n",
       "      <td>2025-04-26</td>\n",
       "      <td>2025-04-26 05:01:00</td>\n",
       "    </tr>\n",
       "    <tr>\n",
       "      <th>83</th>\n",
       "      <td>2544</td>\n",
       "      <td>Walmart</td>\n",
       "      <td>1024</td>\n",
       "      <td>2025-04-27</td>\n",
       "      <td>2025-04-27 12:30:00</td>\n",
       "    </tr>\n",
       "  </tbody>\n",
       "</table>\n",
       "</div>"
      ],
      "text/plain": [
       "    order_id customer  amount        date        last_updated\n",
       "77      6561   Costco      71  2025-04-25 2025-04-25 14:56:00\n",
       "80      5874  BestBuy     235  2025-04-26 2025-04-26 10:33:00\n",
       "81      4641   Costco    1245  2025-04-26 2025-04-26 10:32:00\n",
       "82      2342   Target     424  2025-04-26 2025-04-26 05:01:00\n",
       "83      2544  Walmart    1024  2025-04-27 2025-04-27 12:30:00"
      ]
     },
     "execution_count": 9,
     "metadata": {},
     "output_type": "execute_result"
    }
   ],
   "source": [
    "# ⏩ Section 2: Incremental Extraction\n",
    "with open(\"last_extraction.txt\", \"r\") as f:\n",
    "    last_extraction = f.read().strip()\n",
    "\n",
    "last_time = pd.to_datetime(last_extraction)\n",
    "df = pd.read_csv(\"custom_data.csv\", parse_dates=[\"last_updated\"])\n",
    "df_incremental = df[df[\"last_updated\"] > last_time]\n",
    "\n",
    "print(f\"Extracted {len(df_incremental)} rows incrementally since {last_extraction}.\")\n",
    "df_incremental.head()\n"
   ]
  },
  {
   "cell_type": "code",
   "execution_count": 10,
   "id": "1aa3d32b",
   "metadata": {},
   "outputs": [
    {
     "name": "stdout",
     "output_type": "stream",
     "text": [
      "Updated last_extraction.txt to 2025-05-30 18:00:00\n"
     ]
    }
   ],
   "source": [
    "# 💾 Section 3: Save New Timestamp\n",
    "new_checkpoint = df['last_updated'].max()\n",
    "with open(\"last_extraction.txt\", \"w\") as f:\n",
    "    f.write(new_checkpoint.isoformat())\n",
    "\n",
    "print(f\"Updated last_extraction.txt to {new_checkpoint}\")\n"
   ]
  }
 ],
 "metadata": {
  "kernelspec": {
   "display_name": "Python 3",
   "language": "python",
   "name": "python3"
  },
  "language_info": {
   "codemirror_mode": {
    "name": "ipython",
    "version": 3
   },
   "file_extension": ".py",
   "mimetype": "text/x-python",
   "name": "python",
   "nbconvert_exporter": "python",
   "pygments_lexer": "ipython3",
   "version": "3.12.0"
  }
 },
 "nbformat": 4,
 "nbformat_minor": 5
}
