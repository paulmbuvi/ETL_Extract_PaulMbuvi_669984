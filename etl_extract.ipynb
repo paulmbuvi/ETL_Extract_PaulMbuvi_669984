{
 "cells": [
  {
   "cell_type": "code",
   "execution_count": 8,
   "id": "99f13724",
   "metadata": {},
   "outputs": [
    {
     "name": "stdout",
     "output_type": "stream",
     "text": [
      "Extracted 212 rows fully.\n",
      "Columns: ['order_id', 'customer', 'amount', 'date', 'last_updated']\n"
     ]
    },
    {
     "data": {
      "text/html": [
       "<div>\n",
       "<style scoped>\n",
       "    .dataframe tbody tr th:only-of-type {\n",
       "        vertical-align: middle;\n",
       "    }\n",
       "\n",
       "    .dataframe tbody tr th {\n",
       "        vertical-align: top;\n",
       "    }\n",
       "\n",
       "    .dataframe thead th {\n",
       "        text-align: right;\n",
       "    }\n",
       "</style>\n",
       "<table border=\"1\" class=\"dataframe\">\n",
       "  <thead>\n",
       "    <tr style=\"text-align: right;\">\n",
       "      <th></th>\n",
       "      <th>order_id</th>\n",
       "      <th>customer</th>\n",
       "      <th>amount</th>\n",
       "      <th>date</th>\n",
       "      <th>last_updated</th>\n",
       "    </tr>\n",
       "  </thead>\n",
       "  <tbody>\n",
       "    <tr>\n",
       "      <th>0</th>\n",
       "      <td>2018</td>\n",
       "      <td>Costco</td>\n",
       "      <td>938</td>\n",
       "      <td>2025-04-01</td>\n",
       "      <td>2025-04-01 05:00:00</td>\n",
       "    </tr>\n",
       "    <tr>\n",
       "      <th>1</th>\n",
       "      <td>9235</td>\n",
       "      <td>Costco</td>\n",
       "      <td>1436</td>\n",
       "      <td>2025-04-01</td>\n",
       "      <td>2025-04-01 02:26:00</td>\n",
       "    </tr>\n",
       "    <tr>\n",
       "      <th>2</th>\n",
       "      <td>6736</td>\n",
       "      <td>Amazon</td>\n",
       "      <td>956</td>\n",
       "      <td>2025-04-01</td>\n",
       "      <td>2025-04-01 07:22:00</td>\n",
       "    </tr>\n",
       "    <tr>\n",
       "      <th>3</th>\n",
       "      <td>5108</td>\n",
       "      <td>Costco</td>\n",
       "      <td>1243</td>\n",
       "      <td>2025-04-01</td>\n",
       "      <td>2025-04-01 08:45:00</td>\n",
       "    </tr>\n",
       "    <tr>\n",
       "      <th>4</th>\n",
       "      <td>9094</td>\n",
       "      <td>Costco</td>\n",
       "      <td>1114</td>\n",
       "      <td>2025-04-01</td>\n",
       "      <td>2025-04-01 17:46:00</td>\n",
       "    </tr>\n",
       "  </tbody>\n",
       "</table>\n",
       "</div>"
      ],
      "text/plain": [
       "   order_id customer  amount        date        last_updated\n",
       "0      2018   Costco     938  2025-04-01 2025-04-01 05:00:00\n",
       "1      9235   Costco    1436  2025-04-01 2025-04-01 02:26:00\n",
       "2      6736   Amazon     956  2025-04-01 2025-04-01 07:22:00\n",
       "3      5108   Costco    1243  2025-04-01 2025-04-01 08:45:00\n",
       "4      9094   Costco    1114  2025-04-01 2025-04-01 17:46:00"
      ]
     },
     "execution_count": 8,
     "metadata": {},
     "output_type": "execute_result"
    }
   ],
   "source": [
    "# 🔄 Section 1: Full Extraction\n",
    "import pandas as pd\n",
    "\n",
    "df_full = pd.read_csv(\"custom_data.csv\", parse_dates=[\"last_updated\"])\n",
    "print(f\"Extracted {len(df_full)} rows fully.\")\n",
    "print(\"Columns:\", df_full.columns.tolist())\n",
    "df_full.head()\n"
   ]
  },
  {
   "cell_type": "code",
   "execution_count": 9,
   "id": "e9f3df6a",
   "metadata": {},
   "outputs": [
    {
     "data": {
      "text/plain": [
       "'custom_data.csv'"
      ]
     },
     "execution_count": 9,
     "metadata": {},
     "output_type": "execute_result"
    }
   ],
   "source": [
    "import shutil\n",
    "\n",
    "# Use a raw string (r\"\") to prevent backslash issues\n",
    "source_path = r\"C:\\Users\\PC\\OneDrive\\Desktop\\ETL_Extract_Paul Mbuvi_669984\\custom_data.csv\"\n",
    "\n",
    "# This moves the file to the same folder as your notebook\n",
    "shutil.move(source_path, 'custom_data.csv')"
   ]
  },
  {
   "cell_type": "code",
   "execution_count": 10,
   "id": "c884938c",
   "metadata": {},
   "outputs": [
    {
     "name": "stdout",
     "output_type": "stream",
     "text": [
      "Extracted 0 rows incrementally since 2025-05-30T18:00:00.\n"
     ]
    },
    {
     "data": {
      "text/html": [
       "<div>\n",
       "<style scoped>\n",
       "    .dataframe tbody tr th:only-of-type {\n",
       "        vertical-align: middle;\n",
       "    }\n",
       "\n",
       "    .dataframe tbody tr th {\n",
       "        vertical-align: top;\n",
       "    }\n",
       "\n",
       "    .dataframe thead th {\n",
       "        text-align: right;\n",
       "    }\n",
       "</style>\n",
       "<table border=\"1\" class=\"dataframe\">\n",
       "  <thead>\n",
       "    <tr style=\"text-align: right;\">\n",
       "      <th></th>\n",
       "      <th>order_id</th>\n",
       "      <th>customer</th>\n",
       "      <th>amount</th>\n",
       "      <th>date</th>\n",
       "      <th>last_updated</th>\n",
       "    </tr>\n",
       "  </thead>\n",
       "  <tbody>\n",
       "  </tbody>\n",
       "</table>\n",
       "</div>"
      ],
      "text/plain": [
       "Empty DataFrame\n",
       "Columns: [order_id, customer, amount, date, last_updated]\n",
       "Index: []"
      ]
     },
     "execution_count": 10,
     "metadata": {},
     "output_type": "execute_result"
    }
   ],
   "source": [
    "# ⏩ Section 2: Incremental Extraction\n",
    "with open(\"last_extraction.txt\", \"r\") as f:\n",
    "    last_extraction = f.read().strip()\n",
    "\n",
    "last_time = pd.to_datetime(last_extraction)\n",
    "df = pd.read_csv(\"custom_data.csv\", parse_dates=[\"last_updated\"])\n",
    "df_incremental = df[df[\"last_updated\"] > last_time]\n",
    "\n",
    "print(f\"Extracted {len(df_incremental)} rows incrementally since {last_extraction}.\")\n",
    "df_incremental.head()\n"
   ]
  },
  {
   "cell_type": "code",
   "execution_count": 11,
   "id": "1aa3d32b",
   "metadata": {},
   "outputs": [
    {
     "name": "stdout",
     "output_type": "stream",
     "text": [
      "Updated last_extraction.txt to 2025-05-30 18:00:00\n"
     ]
    }
   ],
   "source": [
    "# 💾 Section 3: Save New Timestamp\n",
    "new_checkpoint = df['last_updated'].max()\n",
    "with open(\"last_extraction.txt\", \"w\") as f:\n",
    "    f.write(new_checkpoint.isoformat())\n",
    "\n",
    "print(f\"Updated last_extraction.txt to {new_checkpoint}\")\n"
   ]
  },
  {
   "cell_type": "code",
   "execution_count": 12,
   "id": "a9fd538e",
   "metadata": {},
   "outputs": [
    {
     "name": "stdout",
     "output_type": "stream",
     "text": [
      "Column Names: ['order_id', 'customer', 'amount', 'date', 'last_updated']\n"
     ]
    },
    {
     "data": {
      "text/html": [
       "<div>\n",
       "<style scoped>\n",
       "    .dataframe tbody tr th:only-of-type {\n",
       "        vertical-align: middle;\n",
       "    }\n",
       "\n",
       "    .dataframe tbody tr th {\n",
       "        vertical-align: top;\n",
       "    }\n",
       "\n",
       "    .dataframe thead th {\n",
       "        text-align: right;\n",
       "    }\n",
       "</style>\n",
       "<table border=\"1\" class=\"dataframe\">\n",
       "  <thead>\n",
       "    <tr style=\"text-align: right;\">\n",
       "      <th></th>\n",
       "      <th>order_id</th>\n",
       "      <th>customer</th>\n",
       "      <th>amount</th>\n",
       "      <th>date</th>\n",
       "      <th>last_updated</th>\n",
       "    </tr>\n",
       "  </thead>\n",
       "  <tbody>\n",
       "    <tr>\n",
       "      <th>0</th>\n",
       "      <td>2018</td>\n",
       "      <td>Costco</td>\n",
       "      <td>938</td>\n",
       "      <td>2025-04-01</td>\n",
       "      <td>2025-04-01 05:00:00</td>\n",
       "    </tr>\n",
       "    <tr>\n",
       "      <th>1</th>\n",
       "      <td>9235</td>\n",
       "      <td>Costco</td>\n",
       "      <td>1436</td>\n",
       "      <td>2025-04-01</td>\n",
       "      <td>2025-04-01 02:26:00</td>\n",
       "    </tr>\n",
       "    <tr>\n",
       "      <th>2</th>\n",
       "      <td>6736</td>\n",
       "      <td>Amazon</td>\n",
       "      <td>956</td>\n",
       "      <td>2025-04-01</td>\n",
       "      <td>2025-04-01 07:22:00</td>\n",
       "    </tr>\n",
       "    <tr>\n",
       "      <th>3</th>\n",
       "      <td>5108</td>\n",
       "      <td>Costco</td>\n",
       "      <td>1243</td>\n",
       "      <td>2025-04-01</td>\n",
       "      <td>2025-04-01 08:45:00</td>\n",
       "    </tr>\n",
       "    <tr>\n",
       "      <th>4</th>\n",
       "      <td>9094</td>\n",
       "      <td>Costco</td>\n",
       "      <td>1114</td>\n",
       "      <td>2025-04-01</td>\n",
       "      <td>2025-04-01 17:46:00</td>\n",
       "    </tr>\n",
       "  </tbody>\n",
       "</table>\n",
       "</div>"
      ],
      "text/plain": [
       "   order_id customer  amount        date        last_updated\n",
       "0      2018   Costco     938  2025-04-01 2025-04-01 05:00:00\n",
       "1      9235   Costco    1436  2025-04-01 2025-04-01 02:26:00\n",
       "2      6736   Amazon     956  2025-04-01 2025-04-01 07:22:00\n",
       "3      5108   Costco    1243  2025-04-01 2025-04-01 08:45:00\n",
       "4      9094   Costco    1114  2025-04-01 2025-04-01 17:46:00"
      ]
     },
     "execution_count": 12,
     "metadata": {},
     "output_type": "execute_result"
    }
   ],
   "source": [
    "import pandas as pd\n",
    "\n",
    "df = pd.read_csv(\"custom_data.csv\", parse_dates=[\"last_updated\"])\n",
    "print(\"Column Names:\", df.columns.tolist())\n",
    "df.head()\n",
    "\n",
    "\n"
   ]
  },
  {
   "cell_type": "code",
   "execution_count": 13,
   "id": "5bc284c1",
   "metadata": {},
   "outputs": [
    {
     "name": "stdout",
     "output_type": "stream",
     "text": [
      "✅ Full data transformed and saved to transformed_full.csv\n"
     ]
    },
    {
     "data": {
      "text/html": [
       "<div>\n",
       "<style scoped>\n",
       "    .dataframe tbody tr th:only-of-type {\n",
       "        vertical-align: middle;\n",
       "    }\n",
       "\n",
       "    .dataframe tbody tr th {\n",
       "        vertical-align: top;\n",
       "    }\n",
       "\n",
       "    .dataframe thead th {\n",
       "        text-align: right;\n",
       "    }\n",
       "</style>\n",
       "<table border=\"1\" class=\"dataframe\">\n",
       "  <thead>\n",
       "    <tr style=\"text-align: right;\">\n",
       "      <th></th>\n",
       "      <th>order_id</th>\n",
       "      <th>customer</th>\n",
       "      <th>amount</th>\n",
       "      <th>date</th>\n",
       "      <th>last_updated</th>\n",
       "      <th>amount_with_tax</th>\n",
       "      <th>amount_level</th>\n",
       "    </tr>\n",
       "  </thead>\n",
       "  <tbody>\n",
       "    <tr>\n",
       "      <th>0</th>\n",
       "      <td>2018</td>\n",
       "      <td>Costco</td>\n",
       "      <td>938</td>\n",
       "      <td>2025-04-01</td>\n",
       "      <td>2025-04-01 05:00:00</td>\n",
       "      <td>1031.8</td>\n",
       "      <td>Low</td>\n",
       "    </tr>\n",
       "    <tr>\n",
       "      <th>1</th>\n",
       "      <td>9235</td>\n",
       "      <td>Costco</td>\n",
       "      <td>1436</td>\n",
       "      <td>2025-04-01</td>\n",
       "      <td>2025-04-01 02:26:00</td>\n",
       "      <td>1579.6</td>\n",
       "      <td>Medium</td>\n",
       "    </tr>\n",
       "    <tr>\n",
       "      <th>2</th>\n",
       "      <td>6736</td>\n",
       "      <td>Amazon</td>\n",
       "      <td>956</td>\n",
       "      <td>2025-04-01</td>\n",
       "      <td>2025-04-01 07:22:00</td>\n",
       "      <td>1051.6</td>\n",
       "      <td>Low</td>\n",
       "    </tr>\n",
       "    <tr>\n",
       "      <th>3</th>\n",
       "      <td>5108</td>\n",
       "      <td>Costco</td>\n",
       "      <td>1243</td>\n",
       "      <td>2025-04-01</td>\n",
       "      <td>2025-04-01 08:45:00</td>\n",
       "      <td>1367.3</td>\n",
       "      <td>Medium</td>\n",
       "    </tr>\n",
       "    <tr>\n",
       "      <th>4</th>\n",
       "      <td>9094</td>\n",
       "      <td>Costco</td>\n",
       "      <td>1114</td>\n",
       "      <td>2025-04-01</td>\n",
       "      <td>2025-04-01 17:46:00</td>\n",
       "      <td>1225.4</td>\n",
       "      <td>Medium</td>\n",
       "    </tr>\n",
       "  </tbody>\n",
       "</table>\n",
       "</div>"
      ],
      "text/plain": [
       "   order_id customer  amount        date        last_updated  amount_with_tax  \\\n",
       "0      2018   Costco     938  2025-04-01 2025-04-01 05:00:00           1031.8   \n",
       "1      9235   Costco    1436  2025-04-01 2025-04-01 02:26:00           1579.6   \n",
       "2      6736   Amazon     956  2025-04-01 2025-04-01 07:22:00           1051.6   \n",
       "3      5108   Costco    1243  2025-04-01 2025-04-01 08:45:00           1367.3   \n",
       "4      9094   Costco    1114  2025-04-01 2025-04-01 17:46:00           1225.4   \n",
       "\n",
       "  amount_level  \n",
       "0          Low  \n",
       "1       Medium  \n",
       "2          Low  \n",
       "3       Medium  \n",
       "4       Medium  "
      ]
     },
     "execution_count": 13,
     "metadata": {},
     "output_type": "execute_result"
    }
   ],
   "source": [
    "# 1. Copy original full dataset\n",
    "df_full_cleaned = df_full.copy()\n",
    "\n",
    "# 2. Clean missing values in 'amount' (if any)\n",
    "df_full_cleaned['amount'] = df_full_cleaned['amount'].fillna(df_full_cleaned['amount'].median())\n",
    "\n",
    "# 3. Enrich: Add a new column with tax (10%)\n",
    "df_full_cleaned['amount_with_tax'] = df_full_cleaned['amount'] * 1.10\n",
    "\n",
    "# 4. Structure: Standardize date format\n",
    "df_full_cleaned['date'] = pd.to_datetime(df_full_cleaned['date']).dt.strftime('%Y-%m-%d')\n",
    "\n",
    "# 5. Categorize: Bin amount into levels\n",
    "bins = [0, 1000, 2000, float('inf')]\n",
    "labels = ['Low', 'Medium', 'High']\n",
    "df_full_cleaned['amount_level'] = pd.cut(df_full_cleaned['amount'], bins=bins, labels=labels)\n",
    "\n",
    "# 6. Save transformed full dataset\n",
    "df_full_cleaned.to_csv(\"transformed_full.csv\", index=False)\n",
    "\n",
    "print(\"✅ Full data transformed and saved to transformed_full.csv\")\n",
    "df_full_cleaned.head()\n"
   ]
  },
  {
   "cell_type": "code",
   "execution_count": 14,
   "id": "3b5b07e3",
   "metadata": {},
   "outputs": [
    {
     "name": "stdout",
     "output_type": "stream",
     "text": [
      "✅ Incremental data transformed and saved to transformed_incremental.csv\n"
     ]
    },
    {
     "data": {
      "text/html": [
       "<div>\n",
       "<style scoped>\n",
       "    .dataframe tbody tr th:only-of-type {\n",
       "        vertical-align: middle;\n",
       "    }\n",
       "\n",
       "    .dataframe tbody tr th {\n",
       "        vertical-align: top;\n",
       "    }\n",
       "\n",
       "    .dataframe thead th {\n",
       "        text-align: right;\n",
       "    }\n",
       "</style>\n",
       "<table border=\"1\" class=\"dataframe\">\n",
       "  <thead>\n",
       "    <tr style=\"text-align: right;\">\n",
       "      <th></th>\n",
       "      <th>order_id</th>\n",
       "      <th>customer</th>\n",
       "      <th>amount</th>\n",
       "      <th>date</th>\n",
       "      <th>last_updated</th>\n",
       "      <th>amount_with_tax</th>\n",
       "      <th>amount_level</th>\n",
       "    </tr>\n",
       "  </thead>\n",
       "  <tbody>\n",
       "  </tbody>\n",
       "</table>\n",
       "</div>"
      ],
      "text/plain": [
       "Empty DataFrame\n",
       "Columns: [order_id, customer, amount, date, last_updated, amount_with_tax, amount_level]\n",
       "Index: []"
      ]
     },
     "execution_count": 14,
     "metadata": {},
     "output_type": "execute_result"
    }
   ],
   "source": [
    "# 1. Clean copy of incremental data\n",
    "df_incremental_cleaned = df_incremental.copy()\n",
    "\n",
    "# 2. Clean missing 'amount'\n",
    "df_incremental_cleaned['amount'] = df_incremental_cleaned['amount'].fillna(df_incremental_cleaned['amount'].median())\n",
    "\n",
    "# 3. Add tax\n",
    "df_incremental_cleaned['amount_with_tax'] = df_incremental_cleaned['amount'] * 1.10\n",
    "\n",
    "# 4. Format date\n",
    "df_incremental_cleaned['date'] = pd.to_datetime(df_incremental_cleaned['date']).dt.strftime('%Y-%m-%d')\n",
    "\n",
    "# 5. Categorize amount\n",
    "df_incremental_cleaned['amount_level'] = pd.cut(df_incremental_cleaned['amount'], bins=bins, labels=labels)\n",
    "\n",
    "# 6. Save\n",
    "df_incremental_cleaned.to_csv(\"transformed_incremental.csv\", index=False)\n",
    "\n",
    "print(\"✅ Incremental data transformed and saved to transformed_incremental.csv\")\n",
    "df_incremental_cleaned.head()\n"
   ]
  }
 ],
 "metadata": {
  "kernelspec": {
   "display_name": "Python 3",
   "language": "python",
   "name": "python3"
  },
  "language_info": {
   "codemirror_mode": {
    "name": "ipython",
    "version": 3
   },
   "file_extension": ".py",
   "mimetype": "text/x-python",
   "name": "python",
   "nbconvert_exporter": "python",
   "pygments_lexer": "ipython3",
   "version": "3.12.0"
  }
 },
 "nbformat": 4,
 "nbformat_minor": 5
}
