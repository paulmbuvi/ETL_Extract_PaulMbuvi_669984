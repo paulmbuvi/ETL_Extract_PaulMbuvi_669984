{
 "cells": [
  {
   "cell_type": "code",
   "execution_count": 2,
   "id": "9805b221",
   "metadata": {},
   "outputs": [
    {
     "name": "stdout",
     "output_type": "stream",
     "text": [
      "✅ Data loaded successfully.\n"
     ]
    }
   ],
   "source": [
    "import pandas as pd\n",
    "import os\n",
    "import sqlite3\n",
    "\n",
    "# Make sure output folder exists\n",
    "os.makedirs(\"loaded\", exist_ok=True)\n",
    "\n",
    "# Load the transformed data\n",
    "full_df = pd.read_csv(\"transformed/transformed_full.csv\")\n",
    "incremental_df = pd.read_csv(\"transformed/transformed_incremental.csv\")\n",
    "\n",
    "print(\"✅ Data loaded successfully.\")\n"
   ]
  },
  {
   "cell_type": "code",
   "execution_count": 5,
   "id": "00ad8d08",
   "metadata": {},
   "outputs": [
    {
     "name": "stdout",
     "output_type": "stream",
     "text": [
      "✅ Saved to Parquet format successfully.\n"
     ]
    }
   ],
   "source": [
    "# Save the dataframes as Parquet files\n",
    "full_df.to_parquet(\"loaded/full_data.parquet\", index=False)\n",
    "incremental_df.to_parquet(\"loaded/incremental_data.parquet\", index=False)\n",
    "\n",
    "print(\"✅ Saved to Parquet format successfully.\")\n"
   ]
  },
  {
   "cell_type": "code",
   "execution_count": 7,
   "id": "3d6edf19",
   "metadata": {},
   "outputs": [],
   "source": [
    "# Save to SQLite\n",
    "with sqlite3.connect(\"loaded_data/full_data.db\") as conn:\n",
    "    full_df.to_sql(\"full_data\", conn, if_exists=\"replace\", index=False)\n",
    "\n",
    "with sqlite3.connect(\"loaded_data/incremental_data.db\") as conn:\n",
    "    incremental_df.to_sql(\"incremental_data\", conn, if_exists=\"replace\", index=False)\n"
   ]
  }
 ],
 "metadata": {
  "kernelspec": {
   "display_name": "Python 3",
   "language": "python",
   "name": "python3"
  },
  "language_info": {
   "codemirror_mode": {
    "name": "ipython",
    "version": 3
   },
   "file_extension": ".py",
   "mimetype": "text/x-python",
   "name": "python",
   "nbconvert_exporter": "python",
   "pygments_lexer": "ipython3",
   "version": "3.12.0"
  }
 },
 "nbformat": 4,
 "nbformat_minor": 5
}
